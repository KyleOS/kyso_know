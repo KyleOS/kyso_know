{
 "cells": [
  {
   "cell_type": "raw",
   "metadata": {},
   "source": [
    "---\n",
    "title: Intro to medium time series\n",
    "authors:\n",
    "- kyleos\n",
    "tags:\n",
    "- stats\n",
    "- example\n",
    "created_at: 2016-06-29\n",
    "updated_at: 2016-06-30\n",
    "tldr: This is an example of medium\n",
    "---"
   ]
  },
  {
   "cell_type": "markdown",
   "metadata": {},
   "source": [
    "# Introduction: Linear Regression with Medium Articles\n",
    "\n",
    "In this notebook, we'll look at performing some basic linear regression with the medium articles. This is a continuation of the data analysis performed on my Medium articles. "
   ]
  },
  {
   "cell_type": "code",
   "execution_count": null,
   "metadata": {
    "ExecuteTime": {
     "end_time": "2018-12-27T03:24:38.358494Z",
     "start_time": "2018-12-27T03:24:36.875877Z"
    }
   },
   "outputs": [],
   "source": [
    "# Data science imports\n",
    "import pandas as pd\n",
    "import numpy as np\n",
    "\n",
    "from scipy import stats\n",
    "\n",
    "# Options for pandas\n",
    "pd.options.display.max_columns = 20\n",
    "\n",
    "# Display all cell outputs\n",
    "from IPython.core.interactiveshell import InteractiveShell\n",
    "InteractiveShell.ast_node_interactivity = 'all'\n",
    "\n",
    "# Interactive plotting\n",
    "import plotly.plotly as py\n",
    "import plotly.graph_objs as go\n",
    "from plotly.offline import iplot\n",
    "import cufflinks\n",
    "cufflinks.go_offline()\n",
    "\n",
    "%load_ext autoreload\n",
    "%autoreload 2\n",
    "\n",
    "from timeit import default_timer as timer\n",
    "\n",
    "from collections import Counter, defaultdict\n",
    "from itertools import chain\n",
    "\n",
    "from bs4 import BeautifulSoup\n",
    "import re\n",
    "\n",
    "import requests\n",
    "from multiprocessing import Pool"
   ]
  },
  {
   "cell_type": "code",
   "execution_count": null,
   "metadata": {
    "ExecuteTime": {
     "end_time": "2018-12-27T03:24:39.422536Z",
     "start_time": "2018-12-27T03:24:39.350187Z"
    }
   },
   "outputs": [],
   "source": [
    "from utils import process_in_parallel, get_links, make_iplot"
   ]
  },
  {
   "cell_type": "code",
   "execution_count": null,
   "metadata": {
    "ExecuteTime": {
     "end_time": "2018-12-27T03:24:41.134418Z",
     "start_time": "2018-12-27T03:24:40.976549Z"
    }
   },
   "outputs": [],
   "source": [
    "soup = BeautifulSoup(open('data/published.html', 'r'))\n",
    "soup.text[:100]"
   ]
  },
  {
   "cell_type": "code",
   "execution_count": null,
   "metadata": {
    "ExecuteTime": {
     "end_time": "2018-12-27T03:24:42.032639Z",
     "start_time": "2018-12-27T03:24:41.871801Z"
    }
   },
   "outputs": [],
   "source": [
    "links = get_links(soup)"
   ]
  },
  {
   "cell_type": "code",
   "execution_count": null,
   "metadata": {
    "ExecuteTime": {
     "end_time": "2018-12-27T03:24:54.163230Z",
     "start_time": "2018-12-27T03:24:44.240823Z"
    }
   },
   "outputs": [],
   "source": [
    "data = process_in_parallel(links)\n",
    "responses = data[data['response'] == 'response'].copy()\n",
    "articles = data[data['response'] == 'article'].copy()\n",
    "responses.head()"
   ]
  },
  {
   "cell_type": "markdown",
   "metadata": {},
   "source": [
    "# Linear Regression"
   ]
  },
  {
   "cell_type": "code",
   "execution_count": null,
   "metadata": {
    "ExecuteTime": {
     "end_time": "2018-12-27T03:24:55.791870Z",
     "start_time": "2018-12-27T03:24:55.757762Z"
    }
   },
   "outputs": [],
   "source": [
    "regression = stats.linregress(x=articles['word_count'], y=articles['claps'])\n",
    "slope = regression.slope\n",
    "intercept = regression.intercept\n",
    "rvalue = regression.rvalue\n",
    "\n",
    "regression"
   ]
  },
  {
   "cell_type": "code",
   "execution_count": null,
   "metadata": {
    "ExecuteTime": {
     "end_time": "2018-12-27T03:25:14.709811Z",
     "start_time": "2018-12-27T03:25:13.937964Z"
    }
   },
   "outputs": [],
   "source": [
    "figure = make_iplot(articles, x = 'word_count', y = 'claps', base_title='Claps vs Word Count')\n",
    "iplot(figure)"
   ]
  },
  {
   "cell_type": "code",
   "execution_count": null,
   "metadata": {
    "ExecuteTime": {
     "end_time": "2018-12-27T03:25:15.600673Z",
     "start_time": "2018-12-27T03:25:15.358871Z"
    }
   },
   "outputs": [],
   "source": [
    "figure = make_iplot(data, x = 'word_count', y = 'claps', base_title='Claps vs Word Count')\n",
    "iplot(figure)"
   ]
  },
  {
   "cell_type": "code",
   "execution_count": null,
   "metadata": {
    "ExecuteTime": {
     "end_time": "2018-12-27T03:25:16.135353Z",
     "start_time": "2018-12-27T03:25:16.028754Z"
    }
   },
   "outputs": [],
   "source": [
    "figure = make_iplot(articles, x = 'read_time', y = 'word_count', base_title='Word Count vs Read Time')\n",
    "iplot(figure)"
   ]
  },
  {
   "cell_type": "markdown",
   "metadata": {},
   "source": [
    "# Time Since Start Comparisons"
   ]
  },
  {
   "cell_type": "code",
   "execution_count": null,
   "metadata": {
    "ExecuteTime": {
     "end_time": "2018-12-27T03:25:18.972869Z",
     "start_time": "2018-12-27T03:25:18.800025Z"
    }
   },
   "outputs": [],
   "source": [
    "articles['time_since_start'] = (articles['time_published'] - articles['time_published'].min()).dt.total_seconds() / (60 * 60 * 24)\n",
    "figure = make_iplot(articles, x = 'time_since_start', y = 'word_count', \n",
    "                    base_title='Word Count vs Time Since Start', eq_pos=(0.5, 0.75))\n",
    "iplot(figure)"
   ]
  },
  {
   "cell_type": "code",
   "execution_count": null,
   "metadata": {
    "ExecuteTime": {
     "end_time": "2018-12-27T03:25:19.529407Z",
     "start_time": "2018-12-27T03:25:19.424567Z"
    }
   },
   "outputs": [],
   "source": [
    "figure = make_iplot(articles, x = 'time_since_start', y = 'claps', \n",
    "                    base_title='Claps vs Time Since Start', eq_pos=(0.5, 0.75))\n",
    "iplot(figure)"
   ]
  },
  {
   "cell_type": "code",
   "execution_count": null,
   "metadata": {
    "ExecuteTime": {
     "end_time": "2018-12-27T03:25:20.068853Z",
     "start_time": "2018-12-27T03:25:19.968516Z"
    }
   },
   "outputs": [],
   "source": [
    "figure = make_iplot(articles, x = '<tag>Towards Data Science', y = 'claps', \n",
    "                    base_title='Claps vs Tag Towards Data Science', eq_pos=(0.5, 0.75))\n",
    "iplot(figure)"
   ]
  },
  {
   "cell_type": "markdown",
   "metadata": {},
   "source": [
    "# Conclusions\n",
    "\n",
    "\n",
    "In this notebook, we looked at performing linear regressions on my medium article data. We saw there are not many linear relationships within the dataset except that of time to read versus the number of words. Claps does not appear to be linearly related to any other variable, although using the tag towards data science seems to increase the number of claps on an article."
   ]
  },
  {
   "cell_type": "code",
   "execution_count": null,
   "metadata": {},
   "outputs": [],
   "source": []
  }
 ],
 "metadata": {
  "hide_input": false,
  "kernelspec": {
   "display_name": "Python 3",
   "language": "python",
   "name": "python3"
  },
  "language_info": {
   "codemirror_mode": {
    "name": "ipython",
    "version": 3
   },
   "file_extension": ".py",
   "mimetype": "text/x-python",
   "name": "python",
   "nbconvert_exporter": "python",
   "pygments_lexer": "ipython3",
   "version": "3.7.1"
  },
  "toc": {
   "base_numbering": 1,
   "nav_menu": {},
   "number_sections": true,
   "sideBar": true,
   "skip_h1_title": false,
   "title_cell": "Table of Contents",
   "title_sidebar": "Contents",
   "toc_cell": false,
   "toc_position": {},
   "toc_section_display": true,
   "toc_window_display": false
  },
  "varInspector": {
   "cols": {
    "lenName": 16,
    "lenType": 16,
    "lenVar": 40
   },
   "kernels_config": {
    "python": {
     "delete_cmd_postfix": "",
     "delete_cmd_prefix": "del ",
     "library": "var_list.py",
     "varRefreshCmd": "print(var_dic_list())"
    },
    "r": {
     "delete_cmd_postfix": ") ",
     "delete_cmd_prefix": "rm(",
     "library": "var_list.r",
     "varRefreshCmd": "cat(var_dic_list()) "
    }
   },
   "types_to_exclude": [
    "module",
    "function",
    "builtin_function_or_method",
    "instance",
    "_Feature"
   ],
   "window_display": false
  }
 },
 "nbformat": 4,
 "nbformat_minor": 2
}